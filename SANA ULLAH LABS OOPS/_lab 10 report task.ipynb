{
 "cells": [
  {
   "cell_type": "markdown",
   "id": "779ea86d-bcd6-44e5-9dab-302dc59f94b0",
   "metadata": {},
   "source": [
    "| 📝 *Field*         | ✨ *Details*       |\n",
    "|-----------------------|---------------------|\n",
    "| *👤 Name*          | Sana Ullah Khan       |\n",
    "| *📋 Req No*        | 23JZELE0546         |\n",
    "| *📚 Lab*           | OOPS&DS         |\n",
    "| *📑 Lab Report No* | 10 "
   ]
  },
  {
   "cell_type": "markdown",
   "id": "2733dea3-25f1-4175-a34e-4bcb58b087d1",
   "metadata": {},
   "source": [
    "# Lab Report Tasks"
   ]
  },
  {
   "cell_type": "code",
   "execution_count": 5,
   "id": "cd6e8d5a-7800-48fb-a760-9273cf6d6102",
   "metadata": {},
   "outputs": [],
   "source": [
    "import os\n",
    "os.chdir(r'C:\\Users\\DELL\\Desktop\\UET\\3 semester\\OOPS lab\\inheritence')"
   ]
  },
  {
   "cell_type": "markdown",
   "id": "b03c376e-a0ab-4e49-a766-7b3d3f1658ad",
   "metadata": {},
   "source": [
    "Lab 8,9"
   ]
  },
  {
   "cell_type": "code",
   "execution_count": 8,
   "id": "b4c03975-3cce-471d-a9ff-dc408dd36615",
   "metadata": {},
   "outputs": [],
   "source": [
    "import hr"
   ]
  },
  {
   "cell_type": "code",
   "execution_count": 10,
   "id": "f6a52a8c-5cc2-4565-9e01-c18b9535c904",
   "metadata": {},
   "outputs": [],
   "source": [
    "from hr import PayrollSystem"
   ]
  },
  {
   "cell_type": "code",
   "execution_count": 12,
   "id": "081dba7c-97e1-41c3-9219-aa86513d95db",
   "metadata": {},
   "outputs": [],
   "source": [
    "import productivity"
   ]
  },
  {
   "cell_type": "code",
   "execution_count": 14,
   "id": "aa7ae3a4-9f16-4d7e-a418-e755edbbd4cf",
   "metadata": {},
   "outputs": [],
   "source": [
    "from productivity import ProductivitySystem"
   ]
  },
  {
   "cell_type": "code",
   "execution_count": 16,
   "id": "79fa02c6-e1ea-46ec-8942-454782b0fa81",
   "metadata": {},
   "outputs": [],
   "source": [
    "import employees"
   ]
  },
  {
   "cell_type": "code",
   "execution_count": 18,
   "id": "09885a4a-c6a3-437b-96d3-74f38394ba41",
   "metadata": {},
   "outputs": [],
   "source": [
    "from employees import SalaryEmployee"
   ]
  },
  {
   "cell_type": "code",
   "execution_count": 20,
   "id": "cf11ef82-1260-49d8-9e5d-115c9216e67b",
   "metadata": {},
   "outputs": [],
   "source": [
    "s=SalaryEmployee(3,\"ali\",40)"
   ]
  },
  {
   "cell_type": "code",
   "execution_count": 22,
   "id": "b7c018ae-742c-4c5d-92c6-cd43785d5ce7",
   "metadata": {},
   "outputs": [
    {
     "data": {
      "text/plain": [
       "40"
      ]
     },
     "execution_count": 22,
     "metadata": {},
     "output_type": "execute_result"
    }
   ],
   "source": [
    "s.calculate_payroll()"
   ]
  },
  {
   "cell_type": "code",
   "execution_count": 24,
   "id": "2005a68d-90c8-42a9-8d15-5c324a88c09b",
   "metadata": {},
   "outputs": [
    {
     "data": {
      "text/plain": [
       "40"
      ]
     },
     "execution_count": 24,
     "metadata": {},
     "output_type": "execute_result"
    }
   ],
   "source": [
    "s.weekly_salary"
   ]
  },
  {
   "cell_type": "code",
   "execution_count": 26,
   "id": "86167385-ade4-48ca-8632-e0871883a08b",
   "metadata": {},
   "outputs": [],
   "source": [
    "from employees import HourlyEmployee"
   ]
  },
  {
   "cell_type": "code",
   "execution_count": 28,
   "id": "4a55bc19-ef22-4f8d-bb27-d482b7c91538",
   "metadata": {},
   "outputs": [],
   "source": [
    "h=HourlyEmployee(3,\"ali\",4,60)"
   ]
  },
  {
   "cell_type": "code",
   "execution_count": 29,
   "id": "0b789f13-6f93-4a94-b743-ab27fefcb8bc",
   "metadata": {},
   "outputs": [
    {
     "data": {
      "text/plain": [
       "4"
      ]
     },
     "execution_count": 29,
     "metadata": {},
     "output_type": "execute_result"
    }
   ],
   "source": [
    "h.hours_worked"
   ]
  },
  {
   "cell_type": "code",
   "execution_count": 30,
   "id": "bab6988f-18e4-4196-9b0b-960b8412f354",
   "metadata": {},
   "outputs": [
    {
     "data": {
      "text/plain": [
       "60"
      ]
     },
     "execution_count": 30,
     "metadata": {},
     "output_type": "execute_result"
    }
   ],
   "source": [
    "h.hourly_rate"
   ]
  },
  {
   "cell_type": "code",
   "execution_count": 31,
   "id": "452a0628-7acd-4421-990c-ba0a48280b02",
   "metadata": {},
   "outputs": [
    {
     "data": {
      "text/plain": [
       "240"
      ]
     },
     "execution_count": 31,
     "metadata": {},
     "output_type": "execute_result"
    }
   ],
   "source": [
    "h.calculate_payroll()"
   ]
  },
  {
   "cell_type": "code",
   "execution_count": 32,
   "id": "28bee288-b294-4188-8859-c68c53fbafa4",
   "metadata": {},
   "outputs": [],
   "source": [
    "from employees import CommissionEmployee"
   ]
  },
  {
   "cell_type": "code",
   "execution_count": 33,
   "id": "b2e9e2fe-c7ca-4470-9aec-46b4582d4711",
   "metadata": {},
   "outputs": [],
   "source": [
    "c=CommissionEmployee(4,\"ali\",60,5)"
   ]
  },
  {
   "cell_type": "code",
   "execution_count": 34,
   "id": "1d197ace-5954-4afe-ab34-878d33339b6b",
   "metadata": {},
   "outputs": [
    {
     "data": {
      "text/plain": [
       "5"
      ]
     },
     "execution_count": 34,
     "metadata": {},
     "output_type": "execute_result"
    }
   ],
   "source": [
    "c.commission"
   ]
  },
  {
   "cell_type": "code",
   "execution_count": 35,
   "id": "093ae181-12ef-4e68-a8c9-e4cf8ceb8a87",
   "metadata": {},
   "outputs": [
    {
     "data": {
      "text/plain": [
       "65"
      ]
     },
     "execution_count": 35,
     "metadata": {},
     "output_type": "execute_result"
    }
   ],
   "source": [
    "c.calculate_payroll()"
   ]
  },
  {
   "cell_type": "code",
   "execution_count": 36,
   "id": "986f9957-ba81-4c0e-a207-4b930340730f",
   "metadata": {},
   "outputs": [],
   "source": [
    "from employees import Manager"
   ]
  },
  {
   "cell_type": "code",
   "execution_count": 2,
   "id": "e4d838cf-1ccb-4deb-803b-bccc59a9cec1",
   "metadata": {},
   "outputs": [
    {
     "ename": "NameError",
     "evalue": "name 'Manager' is not defined",
     "output_type": "error",
     "traceback": [
      "\u001b[1;31m---------------------------------------------------------------------------\u001b[0m",
      "\u001b[1;31mNameError\u001b[0m                                 Traceback (most recent call last)",
      "Cell \u001b[1;32mIn[2], line 1\u001b[0m\n\u001b[1;32m----> 1\u001b[0m m\u001b[38;5;241m=\u001b[39mManager(\u001b[38;5;241m3\u001b[39m,\u001b[38;5;124m\"\u001b[39m\u001b[38;5;124mali\u001b[39m\u001b[38;5;124m\"\u001b[39m,\u001b[38;5;241m40\u001b[39m)\n",
      "\u001b[1;31mNameError\u001b[0m: name 'Manager' is not defined"
     ]
    }
   ],
   "source": [
    "m=Manager(3,\"ali\",40)"
   ]
  },
  {
   "cell_type": "code",
   "execution_count": 3,
   "id": "0b2e0b26-db41-445f-8ced-736b8a44536f",
   "metadata": {},
   "outputs": [
    {
     "ename": "NameError",
     "evalue": "name 'm' is not defined",
     "output_type": "error",
     "traceback": [
      "\u001b[1;31m---------------------------------------------------------------------------\u001b[0m",
      "\u001b[1;31mNameError\u001b[0m                                 Traceback (most recent call last)",
      "Cell \u001b[1;32mIn[3], line 1\u001b[0m\n\u001b[1;32m----> 1\u001b[0m m\u001b[38;5;241m.\u001b[39mwork(\u001b[38;5;241m8\u001b[39m)\n",
      "\u001b[1;31mNameError\u001b[0m: name 'm' is not defined"
     ]
    }
   ],
   "source": [
    "m.work(8)"
   ]
  },
  {
   "cell_type": "code",
   "execution_count": 39,
   "id": "7fbe552c-4c1d-4844-b153-b1c70235f3e4",
   "metadata": {},
   "outputs": [],
   "source": [
    "from employees import Secretary"
   ]
  },
  {
   "cell_type": "code",
   "execution_count": 40,
   "id": "b410f05b-2acb-4463-9e9e-5af3cd118513",
   "metadata": {},
   "outputs": [],
   "source": [
    "s=Secretary(3,\"ali\",40)"
   ]
  },
  {
   "cell_type": "code",
   "execution_count": 41,
   "id": "92bd8e79-775a-43af-a872-f39e604d7c90",
   "metadata": {},
   "outputs": [
    {
     "name": "stdout",
     "output_type": "stream",
     "text": [
      "ali expends 2 hours doing office paperwork.\n"
     ]
    }
   ],
   "source": [
    "s.work(2)"
   ]
  },
  {
   "cell_type": "code",
   "execution_count": 42,
   "id": "c7498ca8-77f1-408a-8576-dd05a636cd95",
   "metadata": {},
   "outputs": [],
   "source": [
    "from employees import SalesPerson"
   ]
  },
  {
   "cell_type": "code",
   "execution_count": 43,
   "id": "6785b204-dcd6-4d4e-a56e-388fef8f3914",
   "metadata": {},
   "outputs": [],
   "source": [
    "ss=SalesPerson(3,\"ali\",40,10)"
   ]
  },
  {
   "cell_type": "code",
   "execution_count": 44,
   "id": "588f2a1e-e357-4e71-8483-67f6fce5fa59",
   "metadata": {},
   "outputs": [
    {
     "name": "stdout",
     "output_type": "stream",
     "text": [
      "ali expends 3 hours on the phone.\n"
     ]
    }
   ],
   "source": [
    "ss.work(3)"
   ]
  },
  {
   "cell_type": "code",
   "execution_count": 45,
   "id": "c3477539-7584-4ff3-9c79-ef926e7a4be8",
   "metadata": {},
   "outputs": [],
   "source": [
    "from employees import FactoryWorker"
   ]
  },
  {
   "cell_type": "code",
   "execution_count": 46,
   "id": "6099c613-b609-435c-925c-af49840db4ec",
   "metadata": {},
   "outputs": [],
   "source": [
    "f=FactoryWorker(3,\"ali\",40,3)"
   ]
  },
  {
   "cell_type": "code",
   "execution_count": 47,
   "id": "3b6366a4-52c3-494b-804d-1651cf13c3df",
   "metadata": {},
   "outputs": [
    {
     "name": "stdout",
     "output_type": "stream",
     "text": [
      "ali manufactures gadgets for 4 hours.\n"
     ]
    }
   ],
   "source": [
    "f.work(4)"
   ]
  },
  {
   "cell_type": "code",
   "execution_count": 48,
   "id": "04c4dbe8-f528-4475-ad87-12f0ab7afbb6",
   "metadata": {},
   "outputs": [],
   "source": [
    "from employees import TemporarySecretary"
   ]
  },
  {
   "cell_type": "code",
   "execution_count": 49,
   "id": "cb6d2357-1215-4fc6-980c-23175425f9b2",
   "metadata": {},
   "outputs": [
    {
     "name": "stdout",
     "output_type": "stream",
     "text": [
      "Tracking Employee Productivity\n",
      "==============================\n",
      "Mary Poppins screams and yells for 40 hours.\n",
      "John Smith expends 40 hours doing office paperwork.\n",
      "Kevin Bacon expends 40 hours on the phone.\n",
      "Jane Doe manufactures gadgets for 40 hours.\n",
      "Robin Williams expends 40 hours doing office paperwork.\n",
      "\n",
      "Calculating Payroll\n",
      "===================\n",
      "Payroll for: 1 - Mary Poppins\n",
      "- Check amount: 3000\n",
      "\n",
      "Payroll for: 2 - John Smith\n",
      "- Check amount: 1500\n",
      "\n",
      "Payroll for: 3 - Kevin Bacon\n",
      "- Check amount: 1250\n",
      "\n",
      "Payroll for: 4 - Jane Doe\n",
      "- Check amount: 600\n",
      "\n",
      "Payroll for: 5 - Robin Williams\n",
      "- Check amount: 360\n",
      "\n"
     ]
    }
   ],
   "source": [
    "manager = Manager(1, \"Mary Poppins\", 3000)\n",
    "secretary = Secretary(2, \"John Smith\", 1500)\n",
    "sales_guy = SalesPerson(3, \"Kevin Bacon\", 1000, 250)\n",
    "factory_worker = FactoryWorker(4, \"Jane Doe\", 40, 15)\n",
    "temporary_secretary = TemporarySecretary(5, \"Robin Williams\", 40, 9)\n",
    "company_employees = [\n",
    "    manager,\n",
    "    secretary,\n",
    "    sales_guy,\n",
    "    factory_worker,\n",
    "    temporary_secretary,\n",
    "]\n",
    "\n",
    "productivity_system = ProductivitySystem()\n",
    "productivity_system.track(company_employees, 40)\n",
    "\n",
    "payroll_system = PayrollSystem()\n",
    "payroll_system.calculate_payroll(company_employees)"
   ]
  },
  {
   "cell_type": "markdown",
   "id": "2c9e586f-125c-48f5-a54c-8c6d6515f5a0",
   "metadata": {},
   "source": [
    "Lab 7 work"
   ]
  },
  {
   "cell_type": "code",
   "execution_count": 51,
   "id": "173253ba-7ee7-4151-b623-2f4a494266b2",
   "metadata": {},
   "outputs": [
    {
     "ename": "ModuleNotFoundError",
     "evalue": "No module named 'square'",
     "output_type": "error",
     "traceback": [
      "\u001b[1;31m---------------------------------------------------------------------------\u001b[0m",
      "\u001b[1;31mModuleNotFoundError\u001b[0m                       Traceback (most recent call last)",
      "Cell \u001b[1;32mIn[51], line 1\u001b[0m\n\u001b[1;32m----> 1\u001b[0m \u001b[38;5;28;01mimport\u001b[39;00m \u001b[38;5;21;01msquare\u001b[39;00m\n",
      "\u001b[1;31mModuleNotFoundError\u001b[0m: No module named 'square'"
     ]
    }
   ],
   "source": [
    "import square"
   ]
  },
  {
   "cell_type": "code",
   "execution_count": null,
   "id": "cabbaf2f-4a02-4df3-91e6-0254e6ba3499",
   "metadata": {},
   "outputs": [],
   "source": [
    "from square import Cube"
   ]
  },
  {
   "cell_type": "code",
   "execution_count": null,
   "id": "4e76a828-0c92-462f-bf57-ee503dae4237",
   "metadata": {},
   "outputs": [],
   "source": [
    "cube1 = Cube(4)\n",
    "cube2 = Cube(10)\n"
   ]
  },
  {
   "cell_type": "code",
   "execution_count": null,
   "id": "5bc875ad-f5c4-4546-85b4-13b06fd27fd9",
   "metadata": {},
   "outputs": [],
   "source": [
    "cube1.volume()"
   ]
  },
  {
   "cell_type": "code",
   "execution_count": null,
   "id": "a4f36772-94b7-472c-927f-2d307bc878b1",
   "metadata": {},
   "outputs": [],
   "source": [
    "cube1.surface_area()"
   ]
  },
  {
   "cell_type": "code",
   "execution_count": null,
   "id": "c59d5b9e-0ab5-477d-ab45-a0494900c3dc",
   "metadata": {},
   "outputs": [],
   "source": [
    "import rec"
   ]
  },
  {
   "cell_type": "code",
   "execution_count": null,
   "id": "c70a3ef9-f4b9-42c9-9571-6d9a39e60435",
   "metadata": {},
   "outputs": [],
   "source": [
    "from rec import Square"
   ]
  },
  {
   "cell_type": "code",
   "execution_count": null,
   "id": "217c7925-43b3-43b1-b2ca-13655ce70ff6",
   "metadata": {},
   "outputs": [],
   "source": [
    "inst_1=Square(2,2)"
   ]
  },
  {
   "cell_type": "code",
   "execution_count": null,
   "id": "de05d2cf-606e-4532-8a40-d33d22fd6d54",
   "metadata": {},
   "outputs": [],
   "source": [
    "inst_1.area()"
   ]
  },
  {
   "cell_type": "code",
   "execution_count": null,
   "id": "932dbbbf-673d-4201-a3d4-490fbf40c04c",
   "metadata": {},
   "outputs": [],
   "source": [
    "inst_1.perimeter()"
   ]
  },
  {
   "cell_type": "code",
   "execution_count": null,
   "id": "0f613d3b-d62f-413f-9561-a95a5348bf07",
   "metadata": {},
   "outputs": [],
   "source": [
    "import point"
   ]
  },
  {
   "cell_type": "code",
   "execution_count": null,
   "id": "929b8754-d313-4d18-a6db-145177cf1e6c",
   "metadata": {},
   "outputs": [],
   "source": [
    "from point import Point3D"
   ]
  },
  {
   "cell_type": "code",
   "execution_count": null,
   "id": "eb2bc90f-4b3d-4829-a379-2c4afab183bb",
   "metadata": {},
   "outputs": [],
   "source": [
    "point1 = Point3D(1, 2, 3)\n",
    "point2 = Point3D(4, 5, 6)"
   ]
  },
  {
   "cell_type": "code",
   "execution_count": null,
   "id": "32fe07fc-8f69-46ed-a772-a85ef28dfa96",
   "metadata": {},
   "outputs": [],
   "source": [
    "point1.distance_from_origin()"
   ]
  },
  {
   "cell_type": "code",
   "execution_count": null,
   "id": "b6739f81-f1da-4040-bdbf-9e357c35d52f",
   "metadata": {},
   "outputs": [],
   "source": [
    "point2.distance_from_origin()"
   ]
  },
  {
   "cell_type": "code",
   "execution_count": null,
   "id": "39a93e98-d82e-428b-b5d3-0a3f10cc8066",
   "metadata": {},
   "outputs": [],
   "source": []
  },
  {
   "cell_type": "code",
   "execution_count": null,
   "id": "c3492d3d-02a6-4135-b3b0-5142ba5f14f4",
   "metadata": {},
   "outputs": [],
   "source": []
  }
 ],
 "metadata": {
  "kernelspec": {
   "display_name": "Python 3 (ipykernel)",
   "language": "python",
   "name": "python3"
  },
  "language_info": {
   "codemirror_mode": {
    "name": "ipython",
    "version": 3
   },
   "file_extension": ".py",
   "mimetype": "text/x-python",
   "name": "python",
   "nbconvert_exporter": "python",
   "pygments_lexer": "ipython3",
   "version": "3.12.4"
  }
 },
 "nbformat": 4,
 "nbformat_minor": 5
}
